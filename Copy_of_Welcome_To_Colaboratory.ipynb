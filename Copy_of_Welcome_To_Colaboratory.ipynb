{
  "cells": [
    {
      "cell_type": "markdown",
      "metadata": {
        "id": "view-in-github",
        "colab_type": "text"
      },
      "source": [
        "<a href=\"https://colab.research.google.com/github/doqhung/machine-learning/blob/main/Copy_of_Welcome_To_Colaboratory.ipynb\" target=\"_parent\"><img src=\"https://colab.research.google.com/assets/colab-badge.svg\" alt=\"Open In Colab\"/></a>"
      ]
    },
    {
      "cell_type": "code",
      "source": [
        "n =int(input('nhap so nguyen n:'))\n",
        "list = []\n",
        "for x in range(n):\n",
        "  list.append(int(input('nhap so nguyen thu '+ str(x+1)+':')))\n",
        "print('max list',max(list))\n",
        "print('min list',min(list))\n",
        "print('sum list',sum(list))\n",
        "print('sort list',sorted(list))\n"
      ],
      "metadata": {
        "colab": {
          "base_uri": "https://localhost:8080/"
        },
        "id": "CSKLyDo8tbaJ",
        "outputId": "2badd740-6a34-40b9-bbc6-bf1680a8b708"
      },
      "execution_count": 15,
      "outputs": [
        {
          "output_type": "stream",
          "name": "stdout",
          "text": [
            "nhap so nguyen n:4\n",
            "nhap so nguyen thu 1:2\n",
            "nhap so nguyen thu 2:5\n",
            "nhap so nguyen thu 3:1\n",
            "nhap so nguyen thu 4:4\n",
            "max list 5\n",
            "min list 1\n",
            "sum list 12\n",
            "sort list [1, 2, 4, 5]\n"
          ]
        }
      ]
    },
    {
      "cell_type": "code",
      "source": [],
      "metadata": {
        "id": "o-SiGlIT77Ss"
      },
      "execution_count": null,
      "outputs": []
    },
    {
      "cell_type": "code",
      "source": [
        "n =int(input('nhap so nguyen n:'))\n",
        "list = []\n",
        "countPos=0\n",
        "countNag=0\n",
        "for x in range(n):\n",
        "  list.append(int(input('nhap so nguyen thu '+ str(x+1)+':')))\n",
        "  if list[x]>0:\n",
        "     countPos+=1\n",
        "  elif list[x]<0:\n",
        "      countNag+=1\n",
        "print('num pos',countPos)\n",
        "print('num nag',countNag)\n",
        "\n"
      ],
      "metadata": {
        "colab": {
          "base_uri": "https://localhost:8080/"
        },
        "id": "TmB6Ti2dx8sA",
        "outputId": "1aec1d93-5f5d-4072-e653-dea37bacee49"
      },
      "execution_count": 29,
      "outputs": [
        {
          "output_type": "stream",
          "name": "stdout",
          "text": [
            "nhap so nguyen n:1\n",
            "nhap so nguyen thu 1:11\n",
            "num pos 1\n",
            "num nag 0\n"
          ]
        }
      ]
    },
    {
      "cell_type": "code",
      "source": [
        "def s(n):\n",
        "  if n==1:\n",
        "   return 1\n",
        "  else:\n",
        "   return s(n-1)+giaithua(n)\n",
        "\n",
        "def giaithua(n):\n",
        "  if n ==1:\n",
        "    return 1\n",
        "  else:\n",
        "    return giaithua(n-1)*n\n",
        "print(s(4))\n"
      ],
      "metadata": {
        "colab": {
          "base_uri": "https://localhost:8080/"
        },
        "id": "cT125NjE1jpW",
        "outputId": "ea8f9fe5-e79c-4883-9de7-06422ad70b2c"
      },
      "execution_count": 42,
      "outputs": [
        {
          "output_type": "stream",
          "name": "stdout",
          "text": [
            "33\n"
          ]
        }
      ]
    }
  ],
  "metadata": {
    "colab": {
      "provenance": [],
      "include_colab_link": true
    },
    "kernelspec": {
      "display_name": "Python 3",
      "name": "python3"
    }
  },
  "nbformat": 4,
  "nbformat_minor": 0
}